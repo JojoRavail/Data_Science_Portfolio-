{
 "cells": [
  {
   "cell_type": "code",
   "execution_count": 5,
   "id": "e7dd07a4",
   "metadata": {},
   "outputs": [],
   "source": [
    "import re "
   ]
  },
  {
   "cell_type": "code",
   "execution_count": 6,
   "id": "af2acd8b",
   "metadata": {},
   "outputs": [],
   "source": [
    "text_to_search = '''\n",
    "\n",
    "abcdefghijklmnopqurtuvwxyz\n",
    "ABCDEFGHIJKLMNOPQRSTUVWXYZ\n",
    "1234567890\n",
    "\n",
    "Ha HaHa\n",
    "\n",
    "MetaCharacters (Need to be escaped):\n",
    ".[{()\\^$|?*+\n",
    "\n",
    "coreyms.com\n",
    "\n",
    "321-555-4321\n",
    "123.555.1234\n",
    "\n",
    "Mr. Schafer\n",
    "Mr Smith\n",
    "Ms Davis\n",
    "Mrs. Robinson\n",
    "Mr. T\n",
    "\n",
    "3500$\n",
    "\n",
    "3Millions \n",
    "\n",
    "\n",
    "'''"
   ]
  },
  {
   "cell_type": "markdown",
   "id": "507eb90b",
   "metadata": {},
   "source": [
    "## Raw string : \n",
    "\n",
    "In python we use \\n for a new line, or \\t for a tab. \n",
    "\n",
    "But in raw expression everything is ignore and considered as an entire string : "
   ]
  },
  {
   "cell_type": "code",
   "execution_count": 7,
   "id": "a12cb704",
   "metadata": {},
   "outputs": [
    {
     "name": "stdout",
     "output_type": "stream",
     "text": [
      "\tTab\n",
      "\\tTab\n"
     ]
    }
   ],
   "source": [
    "print('\\tTab')\n",
    "print(r'\\tTab')"
   ]
  },
  {
   "cell_type": "markdown",
   "id": "317bb35d",
   "metadata": {},
   "source": [
    "## Search for a pattern in a text : "
   ]
  },
  {
   "cell_type": "code",
   "execution_count": 8,
   "id": "b9ee5955",
   "metadata": {},
   "outputs": [
    {
     "name": "stdout",
     "output_type": "stream",
     "text": [
      "<re.Match object; span=(2, 5), match='abc'>\n",
      "<re.Match object; span=(128, 136), match='coreyms.'>\n"
     ]
    }
   ],
   "source": [
    "pattern = re.compile(r'abc')\n",
    "matches = pattern.finditer(text_to_search)\n",
    "\n",
    "for match in matches : \n",
    "    print(match)\n",
    "    \n",
    "    \n",
    "# If you want to look for a dot, or any MetaCharacters, you need to include \\ : \n",
    "\n",
    "pattern2 = re.compile(r'coreyms\\.')\n",
    "matches2 = pattern2.finditer(text_to_search)\n",
    "\n",
    "for match2 in matches2 : \n",
    "    print(match2)"
   ]
  },
  {
   "cell_type": "markdown",
   "id": "7a8821fa",
   "metadata": {},
   "source": [
    "## Regex use snippets to look for specific terms : \n",
    "\n",
    "- They are all listed in snippets.txt"
   ]
  },
  {
   "cell_type": "code",
   "execution_count": 10,
   "id": "acff5365",
   "metadata": {
    "scrolled": true
   },
   "outputs": [
    {
     "name": "stdout",
     "output_type": "stream",
     "text": [
      "[<re.Match object; span=(56, 57), match='1'>, <re.Match object; span=(57, 58), match='2'>, <re.Match object; span=(58, 59), match='3'>, <re.Match object; span=(59, 60), match='4'>, <re.Match object; span=(60, 61), match='5'>, <re.Match object; span=(61, 62), match='6'>, <re.Match object; span=(62, 63), match='7'>, <re.Match object; span=(63, 64), match='8'>, <re.Match object; span=(64, 65), match='9'>, <re.Match object; span=(65, 66), match='0'>, <re.Match object; span=(141, 142), match='3'>, <re.Match object; span=(142, 143), match='2'>, <re.Match object; span=(143, 144), match='1'>, <re.Match object; span=(145, 146), match='5'>, <re.Match object; span=(146, 147), match='5'>, <re.Match object; span=(147, 148), match='5'>, <re.Match object; span=(149, 150), match='4'>, <re.Match object; span=(150, 151), match='3'>, <re.Match object; span=(151, 152), match='2'>, <re.Match object; span=(152, 153), match='1'>]\n",
      "\n",
      " \n"
     ]
    },
    {
     "data": {
      "text/plain": [
       "[<re.Match object; span=(0, 1), match='\\n'>,\n",
       " <re.Match object; span=(1, 2), match='\\n'>,\n",
       " <re.Match object; span=(2, 3), match='a'>,\n",
       " <re.Match object; span=(3, 4), match='b'>,\n",
       " <re.Match object; span=(4, 5), match='c'>,\n",
       " <re.Match object; span=(5, 6), match='d'>,\n",
       " <re.Match object; span=(6, 7), match='e'>,\n",
       " <re.Match object; span=(7, 8), match='f'>,\n",
       " <re.Match object; span=(8, 9), match='g'>,\n",
       " <re.Match object; span=(9, 10), match='h'>]"
      ]
     },
     "execution_count": 10,
     "metadata": {},
     "output_type": "execute_result"
    }
   ],
   "source": [
    "# For example, I need all the digit between 0-9 :\n",
    "\n",
    "digit = re.compile(r'\\d').finditer(text_to_search)\n",
    "print([x for x in digit][0:20])\n",
    "\n",
    "print('\\n ')\n",
    "\n",
    "# For example, I need all the non Digits : \n",
    "\n",
    "Non_digit = re.compile(r'\\D').finditer(text_to_search) # Going to pull \\n at the begining \n",
    "[x for x in Non_digit][0:10]\n",
    "\n"
   ]
  },
  {
   "cell_type": "markdown",
   "id": "1258d3bc",
   "metadata": {},
   "source": [
    "## Task 1 : Search through a sentence : "
   ]
  },
  {
   "cell_type": "code",
   "execution_count": 30,
   "id": "e3b2ddef",
   "metadata": {},
   "outputs": [
    {
     "data": {
      "text/plain": [
       "[<re.Match object; span=(0, 5), match='Start'>]"
      ]
     },
     "execution_count": 30,
     "metadata": {},
     "output_type": "execute_result"
    }
   ],
   "source": [
    "sentence = 'Start a sentence and then bring it to an end'\n",
    "\n",
    "pattern3 = re.compile(r'^Start')\n",
    "match3 = pattern3.finditer(sentence)\n",
    "\n",
    "[x for x in match3][0:10]"
   ]
  },
  {
   "cell_type": "markdown",
   "id": "cc5268dc",
   "metadata": {},
   "source": [
    "## Task 2 : Get the phone numbers "
   ]
  },
  {
   "cell_type": "code",
   "execution_count": 33,
   "id": "5503376c",
   "metadata": {},
   "outputs": [
    {
     "data": {
      "text/plain": [
       "[<re.Match object; span=(141, 153), match='321-555-4321'>,\n",
       " <re.Match object; span=(154, 166), match='123.555.1234'>]"
      ]
     },
     "execution_count": 33,
     "metadata": {},
     "output_type": "execute_result"
    }
   ],
   "source": [
    "pattern_phone = re.compile(r'\\d\\d\\d.\\d\\d\\d.\\d\\d\\d\\d')  # Remeber '.' will accept any Character Except New Line\n",
    "match_phone = pattern_phone.finditer(text_to_search)\n",
    "\n",
    "[x for x in match_phone][0:10]"
   ]
  },
  {
   "cell_type": "code",
   "execution_count": 11,
   "id": "69d83ff8",
   "metadata": {},
   "outputs": [
    {
     "name": "stdout",
     "output_type": "stream",
     "text": [
      "Dave Martin\n",
      "615-555-7164\n",
      "173 Main St., Springfield RI 55924\n",
      "davemartin@bogusemail.com\n",
      "\n",
      "Charles Harris\n",
      "800-555-5669\n",
      "969 High St., Atlantis VA 34075\n",
      "charlesharris@bogusemail.com\n",
      "\n",
      "Eric Williams\n",
      "560-555-5153\n",
      "\n"
     ]
    },
    {
     "data": {
      "text/plain": [
       "[<re.Match object; span=(12, 24), match='615-555-7164'>,\n",
       " <re.Match object; span=(102, 114), match='800-555-5669'>,\n",
       " <re.Match object; span=(191, 203), match='560-555-5153'>]"
      ]
     },
     "execution_count": 11,
     "metadata": {},
     "output_type": "execute_result"
    }
   ],
   "source": [
    "with open('Regular-Expressions\\data.txt','r') as f:    # Open in 'r' means open in read mode \n",
    "    contents = f.read()\n",
    "    \n",
    "print(contents[:204]) \n",
    "    \n",
    "pattern_phone = re.compile(r'\\d\\d\\d[-.]\\d\\d\\d[-.]\\d\\d\\d\\d')\n",
    "pattern_phone = re.compile(r'\\d{3}[-.]\\d{3}[-.]\\d{4}')#Only matche one of the [-.] character set is count as dividers \n",
    "match_phone = pattern_phone.finditer(contents)\n",
    "[x for x in match_phone][0:3]"
   ]
  },
  {
   "cell_type": "code",
   "execution_count": 12,
   "id": "072aeff9",
   "metadata": {},
   "outputs": [
    {
     "data": {
      "text/plain": [
       "[<re.Match object; span=(102, 114), match='800-555-5669'>,\n",
       " <re.Match object; span=(467, 479), match='800-555-6771'>,\n",
       " <re.Match object; span=(1443, 1455), match='800-555-6089'>]"
      ]
     },
     "execution_count": 12,
     "metadata": {},
     "output_type": "execute_result"
    }
   ],
   "source": [
    "# If you want to match only 800 numbers : \n",
    "\n",
    "pattern_phone = re.compile(r'800[-.]\\d\\d\\d[-.]\\d\\d\\d\\d') #Only matche one of the [-.] character set is count as dividers \n",
    "match_phone = pattern_phone.finditer(contents)\n",
    "[x for x in match_phone][0:3]"
   ]
  },
  {
   "cell_type": "code",
   "execution_count": 58,
   "id": "e5a68ca0",
   "metadata": {},
   "outputs": [
    {
     "data": {
      "text/plain": [
       "[<re.Match object; span=(12, 24), match='615-555-7164'>,\n",
       " <re.Match object; span=(191, 203), match='560-555-5153'>,\n",
       " <re.Match object; span=(647, 659), match='516-555-4615'>,\n",
       " <re.Match object; span=(740, 752), match='127-555-1867'>,\n",
       " <re.Match object; span=(831, 843), match='608-555-4938'>,\n",
       " <re.Match object; span=(917, 929), match='568-555-6051'>,\n",
       " <re.Match object; span=(1005, 1017), match='292-555-1875'>,\n",
       " <re.Match object; span=(1182, 1194), match='614-555-1166'>,\n",
       " <re.Match object; span=(1273, 1285), match='530-555-2676'>,\n",
       " <re.Match object; span=(1359, 1371), match='470-555-2750'>]"
      ]
     },
     "execution_count": 58,
     "metadata": {},
     "output_type": "execute_result"
    }
   ],
   "source": [
    "# If you want to find numbers in a range, here only numbers wich have fisrt number between 1-6 : \n",
    "\n",
    "pattern_phone = re.compile(r'[1-6]\\d\\d[-.]\\d\\d\\d[-.]\\d\\d\\d\\d') #Only matche one of the [-.] character set is count as dividers \n",
    "match_phone = pattern_phone.finditer(contents)\n",
    "[x for x in match_phone][0:10]"
   ]
  },
  {
   "cell_type": "code",
   "execution_count": 60,
   "id": "a9582bfa",
   "metadata": {},
   "outputs": [
    {
     "data": {
      "text/plain": [
       "[<re.Match object; span=(0, 1), match='D'>,\n",
       " <re.Match object; span=(1, 2), match='a'>,\n",
       " <re.Match object; span=(2, 3), match='v'>,\n",
       " <re.Match object; span=(3, 4), match='e'>,\n",
       " <re.Match object; span=(5, 6), match='M'>,\n",
       " <re.Match object; span=(6, 7), match='a'>,\n",
       " <re.Match object; span=(7, 8), match='r'>,\n",
       " <re.Match object; span=(8, 9), match='t'>,\n",
       " <re.Match object; span=(9, 10), match='i'>,\n",
       " <re.Match object; span=(10, 11), match='n'>]"
      ]
     },
     "execution_count": 60,
     "metadata": {},
     "output_type": "execute_result"
    }
   ],
   "source": [
    "# If you want to find letters in a range, lowercase and uppercase : \n",
    "\n",
    "pattern_letters = re.compile(r'[a-zA-Z]') # Match the letters, lowercase or uppercase \n",
    "match_letters = pattern_letters.finditer(contents)\n",
    "[x for x in match_letters][0:10]"
   ]
  },
  {
   "cell_type": "code",
   "execution_count": 63,
   "id": "b6511be1",
   "metadata": {},
   "outputs": [
    {
     "data": {
      "text/plain": [
       "[<re.Match object; span=(547, 550), match='Pat'>,\n",
       " <re.Match object; span=(605, 608), match='pat'>,\n",
       " <re.Match object; span=(1739, 1742), match='wat'>,\n",
       " <re.Match object; span=(3322, 3325), match='wat'>,\n",
       " <re.Match object; span=(4313, 4316), match='Pat'>,\n",
       " <re.Match object; span=(4375, 4378), match='pat'>,\n",
       " <re.Match object; span=(4983, 4986), match='wat'>,\n",
       " <re.Match object; span=(5372, 5375), match='Pat'>,\n",
       " <re.Match object; span=(5420, 5423), match='wat'>,\n",
       " <re.Match object; span=(5435, 5438), match='pat'>]"
      ]
     },
     "execution_count": 63,
     "metadata": {},
     "output_type": "execute_result"
    }
   ],
   "source": [
    "# If you want to exclude a characther use [^b] here i exclude b \n",
    "\n",
    "pattern_exclusion = re.compile(r'[^b]at') # Match the letters, lowercase or uppercase \n",
    "match_exclusion = pattern_exclusion.finditer(contents)\n",
    "[x for x in match_exclusion][0:10]"
   ]
  },
  {
   "cell_type": "markdown",
   "id": "472a68a7",
   "metadata": {},
   "source": [
    "## Task 3 email Address : "
   ]
  },
  {
   "cell_type": "code",
   "execution_count": 71,
   "id": "d8958c76",
   "metadata": {},
   "outputs": [],
   "source": [
    "pattern_email = re.compile(r'[a-zA-Z0-9_.+-]+@[a-zA-Z0-9-]+\\.[a-zA-Z0-9-.]+')"
   ]
  },
  {
   "cell_type": "markdown",
   "id": "543b17c9",
   "metadata": {},
   "source": [
    "## Task 4 URL : "
   ]
  },
  {
   "cell_type": "code",
   "execution_count": 74,
   "id": "54e2bef1",
   "metadata": {},
   "outputs": [
    {
     "data": {
      "text/plain": [
       "[<re.Match object; span=(0, 22), match='https://matplotlib.org'>]"
      ]
     },
     "execution_count": 74,
     "metadata": {},
     "output_type": "execute_result"
    }
   ],
   "source": [
    "url ='https://matplotlib.org/stable/api/_as_gen/matplotlib.pyplot.hist.html'\n",
    "\n",
    "pattern_URL = re.compile(r'https?://(www\\.)?(\\w+)(\\.\\w+)')\n",
    "match_url = pattern_URL.finditer(url)\n",
    "[x for x in match_url][0:10]"
   ]
  },
  {
   "cell_type": "code",
   "execution_count": null,
   "id": "cfaa7f48",
   "metadata": {},
   "outputs": [],
   "source": []
  },
  {
   "cell_type": "code",
   "execution_count": null,
   "id": "5906afe4",
   "metadata": {},
   "outputs": [],
   "source": []
  }
 ],
 "metadata": {
  "kernelspec": {
   "display_name": "Python 3",
   "language": "python",
   "name": "python3"
  },
  "language_info": {
   "codemirror_mode": {
    "name": "ipython",
    "version": 3
   },
   "file_extension": ".py",
   "mimetype": "text/x-python",
   "name": "python",
   "nbconvert_exporter": "python",
   "pygments_lexer": "ipython3",
   "version": "3.8.8"
  }
 },
 "nbformat": 4,
 "nbformat_minor": 5
}
