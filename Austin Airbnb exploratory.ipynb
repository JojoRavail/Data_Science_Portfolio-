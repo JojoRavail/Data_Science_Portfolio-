{
 "cells": [
  {
   "cell_type": "markdown",
   "id": "686bcf62",
   "metadata": {},
   "source": [
    "# Abstract : \n",
    "\n",
    "\n",
    "The starting point is the fact that I'm hearing more and more about Austin housing market : \n",
    "\n",
    "- Big tech companies are massively investing in Texas : Tesla, Google, Space X ...\n",
    "- All those companies are bringing highly paid worker who modify Austin housing market \n",
    "- Airbnb is a known problem regarding housing since it's an investement that contribute to very high rent\n",
    "\n",
    "**Second point to consider, I have been to Austin several times and I love this city, It is great for outdoors and that will be part of my opinion.** \n",
    "\n",
    "**I don't think the outdoor suroundings of Austin are prepared to welcome a massive 2 or 3 millions people, it;s going to become an overcrowded hell very fast.** \n",
    "\n",
    "With this in mind, and knowing that Airbnb is nowadays one of the biggest most popular online marketplaces for accommodations, I looked into the data to:\n",
    "\n",
    "- On one hand evaluate the impact Airbnb has on housing in Austin;\n",
    "- On the other hand investigate about who, when and how rents out in Austin. \n"
   ]
  },
  {
   "cell_type": "code",
   "execution_count": 1,
   "id": "33cefd62",
   "metadata": {},
   "outputs": [],
   "source": [
    "%matplotlib inline\n",
    "\n",
    "import numpy as np # linear algebra\n",
    "import pandas as pd # data processing, CSV file I/O (e.g. pd.read_csv)\n",
    "\n",
    "import matplotlib.pyplot as plt\n",
    "import seaborn as sns\n",
    "\n",
    "import scipy.stats as sps    "
   ]
  },
  {
   "cell_type": "markdown",
   "id": "b0165c84",
   "metadata": {},
   "source": [
    "## Approach\n",
    "\n",
    "#### **#1** For the first point I mainly looked at listings.\n",
    "\n",
    "The points that need to be addressed are:\n",
    "\n",
    "- **Listings types:** Airbnb initial idea was to offer a room or a shared room inside one's own house. Is it still so? Is there more private rooms or full house/appartment ?\n",
    "\n",
    "\n",
    "- **Listings density:** are listings evenly distributed across all the neighbourhoods or there are some hot areas? Does it make those areas very trendy and hard to rent/buy ? \n",
    "\n",
    "\n",
    "- **Ownership:** are properties owned by single private users or are there are users that own and rent out multiple places (i.e. possibly speculating) ?\n",
    "\n",
    "\n",
    "\n",
    "#### **#2** For the second part I looked more into reviews. Since we do not have historic data about stays but only about reviews, we could use reviews as estimators of stays/visits.\n",
    "\n",
    "- **Here what we want to see is:**\n",
    "\n",
    "\n",
    "- **Trend:** has the number of reviews increased over time? If it has, can we say that the increment is due to an increased number of visitors or it must be simply abscribed to an increment in the popularity of the platform ?\n",
    "\n",
    "\n",
    "- **Seasonality:** is the flow of tourists seasonal, that is does it follow a seasonal trend? Can we explain the pattern?\n",
    "\n",
    "\n",
    "- **Listings** Is there an historic of the price per listings ? If so Is there a correlation since Tesla moved in and house pricing market ? \n",
    "\n"
   ]
  },
  {
   "cell_type": "code",
   "execution_count": 2,
   "id": "386880fc",
   "metadata": {},
   "outputs": [],
   "source": [
    "listing_df = pd.read_csv('listings_Austin_Airbnb.csv')"
   ]
  },
  {
   "cell_type": "markdown",
   "id": "67d310b4",
   "metadata": {},
   "source": [
    "# First analysis : \n",
    "\n",
    "- The neighbourhood_group is totaly empty, we will try to populate it with the name \n",
    "- last_review, reviews_per_months and host name have missing values we will investigate this\n",
    "- License is null "
   ]
  },
  {
   "cell_type": "markdown",
   "id": "574ba555",
   "metadata": {},
   "source": [
    "## #1 Fill the neighbourhood group : \n",
    "\n",
    "- We are going to map the neihbourhood codes to their actual names : "
   ]
  },
  {
   "cell_type": "code",
   "execution_count": 3,
   "id": "8c66685e",
   "metadata": {},
   "outputs": [
    {
     "data": {
      "text/plain": [
       "array([78702, 78729, 78704, 78741, 78759, 78731, 78758, 78705, 78727,\n",
       "       78703, 78722, 78733, 78701, 78751, 78723, 78752, 78757, 78736,\n",
       "       78732, 78746, 78754, 78745, 78730, 78724, 78756, 78725, 78749,\n",
       "       78721, 78734, 78737, 78748, 78738, 78744, 78726, 78753, 78735,\n",
       "       78750, 78728, 78739, 78717, 78742, 78747, 78712, 78719],\n",
       "      dtype=int64)"
      ]
     },
     "execution_count": 3,
     "metadata": {},
     "output_type": "execute_result"
    }
   ],
   "source": [
    "# Find the uniques values of the neighbourhood feature : \n",
    "\n",
    "listing_df['neighbourhood'].unique()"
   ]
  },
  {
   "cell_type": "code",
   "execution_count": 4,
   "id": "4a0da82a",
   "metadata": {},
   "outputs": [],
   "source": [
    "# Create the dictionnary with the name associated with Zip codes : \n",
    "\n",
    "neighbourhood_dict = {78701  : 'Downtown', 78704 : 'South Central', 78703 : 'Central Austin', \n",
    "                      78705 : 'Central Austin', 78751 : 'Central Austin', 78756 : 'Central Austin', \n",
    "                      78757 : 'Central Austin', 78702 : 'East Austin', 78722 : 'East Austin', \n",
    "                      78741 : 'Southeast', 78744 : 'Southeast', 78747 : 'Southeast', 78745 : 'South Austin',\n",
    "                      78748 : 'South Austin', 78735 : 'Southwest Austin', 78736 : 'Southwest Austin', \n",
    "                      78738 : 'Southwest Austin', 78739 : 'Southwest Austin', 78733 : 'Westlake Hills',\n",
    "                      78746 : 'Westlake Hills', 78731 : 'Northwest Austin', 78727 : 'Northwest Austin', \n",
    "                      78750 : 'Northwest Austin', 78759 : 'Northwest Austin', 78721 : 'Northeast Austin', \n",
    "                      78723 : 'Northeast Austin', 78724 : 'Northeast Austin', 78758 : 'North Austin',\n",
    "                      78734 : 'Travis County', 78752 : 'St. Johns', 78737 : 'Hays County', \n",
    "                      78753 : 'Travis County', 78749 : 'Travis County', 78729 : 'Williamson County',\n",
    "                      78754 : 'Travis County', 78728 : 'Travis County', 78732 : 'Travis County', \n",
    "                      78717 : 'Williamson County', 78725 : 'Travis County', 78730 : 'Travis County', \n",
    "                      78726 : 'Travis County'\n",
    "                      \n",
    "                      }"
   ]
  },
  {
   "cell_type": "code",
   "execution_count": 5,
   "id": "4243e24e",
   "metadata": {},
   "outputs": [],
   "source": [
    "# Remap the values of the dataframe\n",
    "\n",
    "listing_df['neighbourhood_group'] = listing_df.replace({\"neighbourhood\": neighbourhood_dict})['neighbourhood']"
   ]
  },
  {
   "cell_type": "code",
   "execution_count": 6,
   "id": "4680b8bf",
   "metadata": {},
   "outputs": [
    {
     "data": {
      "text/plain": [
       "South Central       1927\n",
       "Central Austin      1896\n",
       "East Austin         1648\n",
       "Southeast           1016\n",
       "Travis County        807\n",
       "Downtown             747\n",
       "South Austin         722\n",
       "Northeast Austin     696\n",
       "North Austin         389\n",
       "Northwest Austin     379\n",
       "Name: neighbourhood_group, dtype: int64"
      ]
     },
     "execution_count": 6,
     "metadata": {},
     "output_type": "execute_result"
    }
   ],
   "source": [
    "listing_df['neighbourhood_group'].value_counts()[:10]"
   ]
  },
  {
   "cell_type": "markdown",
   "id": "a9ddc355",
   "metadata": {},
   "source": [
    "## #2 Drop license column : \n",
    "\n",
    "- We are going to drop the column with license since it's not usefull at this moment for us "
   ]
  },
  {
   "cell_type": "code",
   "execution_count": 7,
   "id": "cd9b6ef7",
   "metadata": {},
   "outputs": [
    {
     "name": "stderr",
     "output_type": "stream",
     "text": [
      "C:\\Users\\johan\\AppData\\Local\\Temp/ipykernel_21932/2236604976.py:1: FutureWarning: In a future version of pandas all arguments of DataFrame.drop except for the argument 'labels' will be keyword-only\n",
      "  listing_df.drop('license', 1, inplace = True)\n"
     ]
    }
   ],
   "source": [
    "listing_df.drop('license', 1, inplace = True)"
   ]
  },
  {
   "cell_type": "markdown",
   "id": "fbdfc3b2",
   "metadata": {},
   "source": [
    "## #3 Analyse missing values in last review and reviews_per_month : \n",
    "\n",
    "- last_review = The date of the last/newest review                  \n",
    "- reviews_per_month = The number of reviews the listing has over the lifetime of the listing"
   ]
  },
  {
   "cell_type": "code",
   "execution_count": 8,
   "id": "a556eec9",
   "metadata": {},
   "outputs": [
    {
     "data": {
      "text/plain": [
       "0    2722\n",
       "Name: number_of_reviews, dtype: int64"
      ]
     },
     "execution_count": 8,
     "metadata": {},
     "output_type": "execute_result"
    }
   ],
   "source": [
    "# Let's look closer to those listing that don't have last_review\n",
    "filt = listing_df['last_review'].isnull()\n",
    "las_review_missing = listing_df.loc[filt]\n",
    "las_review_missing['number_of_reviews'].value_counts()"
   ]
  },
  {
   "cell_type": "markdown",
   "id": "819e6262",
   "metadata": {},
   "source": [
    "## #4 Analyse the price feature : \n",
    "\n",
    "- Compare the price on the dataset and the price on Airbnb Website                 \n",
    "- Create a column : Price adjusted that represent the real price a costumer would pay on Airbnb : \n"
   ]
  },
  {
   "cell_type": "markdown",
   "id": "4972b5bd",
   "metadata": {},
   "source": [
    "First, we need to retrieve the URL of the listing on another table : listing_detailed\n"
   ]
  },
  {
   "cell_type": "code",
   "execution_count": 9,
   "id": "4d26c815",
   "metadata": {},
   "outputs": [],
   "source": [
    "listing_dt_df = pd.read_csv('listings_detail_Austin_Airbnb.csv')"
   ]
  },
  {
   "cell_type": "code",
   "execution_count": 10,
   "id": "1c7b3142",
   "metadata": {},
   "outputs": [],
   "source": [
    "# Merging to get some infos from listing detailed : \n",
    "\n",
    "df_merged = pd.merge(listing_df, listing_dt_df[['listing_url','id','bedrooms','property_type']], on='id')"
   ]
  },
  {
   "cell_type": "code",
   "execution_count": 11,
   "id": "edc020fa",
   "metadata": {},
   "outputs": [
    {
     "data": {
      "text/html": [
       "<div>\n",
       "<style scoped>\n",
       "    .dataframe tbody tr th:only-of-type {\n",
       "        vertical-align: middle;\n",
       "    }\n",
       "\n",
       "    .dataframe tbody tr th {\n",
       "        vertical-align: top;\n",
       "    }\n",
       "\n",
       "    .dataframe thead th {\n",
       "        text-align: right;\n",
       "    }\n",
       "</style>\n",
       "<table border=\"1\" class=\"dataframe\">\n",
       "  <thead>\n",
       "    <tr style=\"text-align: right;\">\n",
       "      <th></th>\n",
       "      <th>id</th>\n",
       "      <th>name</th>\n",
       "      <th>host_id</th>\n",
       "      <th>host_name</th>\n",
       "      <th>neighbourhood_group</th>\n",
       "      <th>neighbourhood</th>\n",
       "      <th>latitude</th>\n",
       "      <th>longitude</th>\n",
       "      <th>room_type</th>\n",
       "      <th>price</th>\n",
       "      <th>minimum_nights</th>\n",
       "      <th>number_of_reviews</th>\n",
       "      <th>last_review</th>\n",
       "      <th>reviews_per_month</th>\n",
       "      <th>calculated_host_listings_count</th>\n",
       "      <th>availability_365</th>\n",
       "      <th>number_of_reviews_ltm</th>\n",
       "      <th>listing_url</th>\n",
       "      <th>bedrooms</th>\n",
       "      <th>property_type</th>\n",
       "    </tr>\n",
       "  </thead>\n",
       "  <tbody>\n",
       "    <tr>\n",
       "      <th>0</th>\n",
       "      <td>2265</td>\n",
       "      <td>Zen-East in the Heart of Austin (monthly rental)</td>\n",
       "      <td>2466</td>\n",
       "      <td>Paddy</td>\n",
       "      <td>East Austin</td>\n",
       "      <td>78702</td>\n",
       "      <td>30.27752</td>\n",
       "      <td>-97.71377</td>\n",
       "      <td>Entire home/apt</td>\n",
       "      <td>179</td>\n",
       "      <td>7</td>\n",
       "      <td>26</td>\n",
       "      <td>2021-07-02</td>\n",
       "      <td>0.36</td>\n",
       "      <td>3</td>\n",
       "      <td>35</td>\n",
       "      <td>2</td>\n",
       "      <td>https://www.airbnb.com/rooms/2265</td>\n",
       "      <td>2.0</td>\n",
       "      <td>Entire residential home</td>\n",
       "    </tr>\n",
       "    <tr>\n",
       "      <th>1</th>\n",
       "      <td>5245</td>\n",
       "      <td>Eco friendly, Colorful, Clean, Cozy monthly share</td>\n",
       "      <td>2466</td>\n",
       "      <td>Paddy</td>\n",
       "      <td>East Austin</td>\n",
       "      <td>78702</td>\n",
       "      <td>30.27614</td>\n",
       "      <td>-97.71320</td>\n",
       "      <td>Private room</td>\n",
       "      <td>114</td>\n",
       "      <td>30</td>\n",
       "      <td>9</td>\n",
       "      <td>2017-02-24</td>\n",
       "      <td>0.21</td>\n",
       "      <td>3</td>\n",
       "      <td>0</td>\n",
       "      <td>0</td>\n",
       "      <td>https://www.airbnb.com/rooms/5245</td>\n",
       "      <td>1.0</td>\n",
       "      <td>Private room in residential home</td>\n",
       "    </tr>\n",
       "    <tr>\n",
       "      <th>2</th>\n",
       "      <td>5456</td>\n",
       "      <td>Walk to 6th, Rainey St and Convention Ctr</td>\n",
       "      <td>8028</td>\n",
       "      <td>Sylvia</td>\n",
       "      <td>East Austin</td>\n",
       "      <td>78702</td>\n",
       "      <td>30.26057</td>\n",
       "      <td>-97.73441</td>\n",
       "      <td>Entire home/apt</td>\n",
       "      <td>108</td>\n",
       "      <td>2</td>\n",
       "      <td>575</td>\n",
       "      <td>2021-09-25</td>\n",
       "      <td>24.16</td>\n",
       "      <td>1</td>\n",
       "      <td>324</td>\n",
       "      <td>39</td>\n",
       "      <td>https://www.airbnb.com/rooms/5456</td>\n",
       "      <td>1.0</td>\n",
       "      <td>Entire guesthouse</td>\n",
       "    </tr>\n",
       "    <tr>\n",
       "      <th>3</th>\n",
       "      <td>5769</td>\n",
       "      <td>NW Austin Room</td>\n",
       "      <td>8186</td>\n",
       "      <td>Elizabeth</td>\n",
       "      <td>Williamson County</td>\n",
       "      <td>78729</td>\n",
       "      <td>30.45697</td>\n",
       "      <td>-97.78422</td>\n",
       "      <td>Private room</td>\n",
       "      <td>39</td>\n",
       "      <td>1</td>\n",
       "      <td>264</td>\n",
       "      <td>2021-07-03</td>\n",
       "      <td>5.95</td>\n",
       "      <td>1</td>\n",
       "      <td>0</td>\n",
       "      <td>7</td>\n",
       "      <td>https://www.airbnb.com/rooms/5769</td>\n",
       "      <td>1.0</td>\n",
       "      <td>Private room in residential home</td>\n",
       "    </tr>\n",
       "    <tr>\n",
       "      <th>4</th>\n",
       "      <td>6413</td>\n",
       "      <td>Gem of a Studio near Downtown</td>\n",
       "      <td>13879</td>\n",
       "      <td>Todd</td>\n",
       "      <td>South Central</td>\n",
       "      <td>78704</td>\n",
       "      <td>30.24885</td>\n",
       "      <td>-97.73587</td>\n",
       "      <td>Entire home/apt</td>\n",
       "      <td>109</td>\n",
       "      <td>3</td>\n",
       "      <td>117</td>\n",
       "      <td>2021-04-02</td>\n",
       "      <td>1.27</td>\n",
       "      <td>1</td>\n",
       "      <td>0</td>\n",
       "      <td>4</td>\n",
       "      <td>https://www.airbnb.com/rooms/6413</td>\n",
       "      <td>NaN</td>\n",
       "      <td>Entire guesthouse</td>\n",
       "    </tr>\n",
       "  </tbody>\n",
       "</table>\n",
       "</div>"
      ],
      "text/plain": [
       "     id                                               name  host_id  \\\n",
       "0  2265   Zen-East in the Heart of Austin (monthly rental)     2466   \n",
       "1  5245  Eco friendly, Colorful, Clean, Cozy monthly share     2466   \n",
       "2  5456          Walk to 6th, Rainey St and Convention Ctr     8028   \n",
       "3  5769                                     NW Austin Room     8186   \n",
       "4  6413                      Gem of a Studio near Downtown    13879   \n",
       "\n",
       "   host_name neighbourhood_group  neighbourhood  latitude  longitude  \\\n",
       "0      Paddy         East Austin          78702  30.27752  -97.71377   \n",
       "1      Paddy         East Austin          78702  30.27614  -97.71320   \n",
       "2     Sylvia         East Austin          78702  30.26057  -97.73441   \n",
       "3  Elizabeth   Williamson County          78729  30.45697  -97.78422   \n",
       "4       Todd       South Central          78704  30.24885  -97.73587   \n",
       "\n",
       "         room_type  price  minimum_nights  number_of_reviews last_review  \\\n",
       "0  Entire home/apt    179               7                 26  2021-07-02   \n",
       "1     Private room    114              30                  9  2017-02-24   \n",
       "2  Entire home/apt    108               2                575  2021-09-25   \n",
       "3     Private room     39               1                264  2021-07-03   \n",
       "4  Entire home/apt    109               3                117  2021-04-02   \n",
       "\n",
       "   reviews_per_month  calculated_host_listings_count  availability_365  \\\n",
       "0               0.36                               3                35   \n",
       "1               0.21                               3                 0   \n",
       "2              24.16                               1               324   \n",
       "3               5.95                               1                 0   \n",
       "4               1.27                               1                 0   \n",
       "\n",
       "   number_of_reviews_ltm                        listing_url  bedrooms  \\\n",
       "0                      2  https://www.airbnb.com/rooms/2265       2.0   \n",
       "1                      0  https://www.airbnb.com/rooms/5245       1.0   \n",
       "2                     39  https://www.airbnb.com/rooms/5456       1.0   \n",
       "3                      7  https://www.airbnb.com/rooms/5769       1.0   \n",
       "4                      4  https://www.airbnb.com/rooms/6413       NaN   \n",
       "\n",
       "                      property_type  \n",
       "0           Entire residential home  \n",
       "1  Private room in residential home  \n",
       "2                 Entire guesthouse  \n",
       "3  Private room in residential home  \n",
       "4                 Entire guesthouse  "
      ]
     },
     "execution_count": 11,
     "metadata": {},
     "output_type": "execute_result"
    }
   ],
   "source": [
    "df_merged.head()"
   ]
  },
  {
   "cell_type": "markdown",
   "id": "a5d888db",
   "metadata": {},
   "source": [
    "# Price analysis : \n",
    "\n",
    "Prices that are displayed here are HEAVELY misleading why ? \n",
    "\n",
    "Let's check this URL row : \n",
    "\n",
    "11265 \thttps://www.airbnb.com/rooms/52772519 \t$120.00\n",
    "\n",
    "We will see later with this host the reality of the price on this airbnb is : \n",
    "\n",
    "\n",
    "76 x 1 night\n",
    "\n",
    "Cleaning fee\n",
    "95\n",
    "\n",
    "Service fee\n",
    "29\n",
    "\n",
    "Occupancy taxes and fees\n",
    "10\n",
    "\n",
    "Total\n",
    "210\n",
    "\n",
    "TOTAL = '210' well well a little more than 120$ ?? \n",
    "\n",
    "The thing is the Datframe doesn't include any fees, wich make Airbnb a more and more expensive option."
   ]
  },
  {
   "cell_type": "code",
   "execution_count": 12,
   "id": "151f507a",
   "metadata": {},
   "outputs": [],
   "source": [
    "missing_mask = df_merged['bedrooms'].isna()\n",
    "mapping_dict = dict({'Entire residential home': 2, 'Entire townhouse '  : 2 , 'Entire rental unit' : 1.5 ,\n",
    "                     'Private room in residential home' : 1, 'Entire condominium (condo)' : 1.5 ,\n",
    "                     'Entire guesthouse' : 1, 'Entire serviced apartment' : 1, 'Private room in rental unit' :1})\n",
    "\n",
    "df_merged.loc[missing_mask, 'bedrooms'] = df_merged.loc[missing_mask, 'property_type'].map(mapping_dict)\n",
    "\n",
    "\n"
   ]
  },
  {
   "cell_type": "code",
   "execution_count": 13,
   "id": "c74c9ad1",
   "metadata": {},
   "outputs": [],
   "source": [
    "df_merged['bedrooms'] = df_merged['bedrooms'].fillna(1)"
   ]
  },
  {
   "cell_type": "code",
   "execution_count": 14,
   "id": "a44a30be",
   "metadata": {},
   "outputs": [
    {
     "data": {
      "text/plain": [
       "False    11269\n",
       "Name: bedrooms, dtype: int64"
      ]
     },
     "execution_count": 14,
     "metadata": {},
     "output_type": "execute_result"
    }
   ],
   "source": [
    "df_merged['bedrooms'].isnull().value_counts()"
   ]
  },
  {
   "cell_type": "code",
   "execution_count": 15,
   "id": "8f3dff03",
   "metadata": {},
   "outputs": [
    {
     "name": "stdout",
     "output_type": "stream",
     "text": [
      "<class 'pandas.core.frame.DataFrame'>\n",
      "Int64Index: 11269 entries, 0 to 11268\n",
      "Data columns (total 20 columns):\n",
      " #   Column                          Non-Null Count  Dtype  \n",
      "---  ------                          --------------  -----  \n",
      " 0   id                              11269 non-null  int64  \n",
      " 1   name                            11269 non-null  object \n",
      " 2   host_id                         11269 non-null  int64  \n",
      " 3   host_name                       11218 non-null  object \n",
      " 4   neighbourhood_group             11269 non-null  object \n",
      " 5   neighbourhood                   11269 non-null  int64  \n",
      " 6   latitude                        11269 non-null  float64\n",
      " 7   longitude                       11269 non-null  float64\n",
      " 8   room_type                       11269 non-null  object \n",
      " 9   price                           11269 non-null  int64  \n",
      " 10  minimum_nights                  11269 non-null  int64  \n",
      " 11  number_of_reviews               11269 non-null  int64  \n",
      " 12  last_review                     8547 non-null   object \n",
      " 13  reviews_per_month               8547 non-null   float64\n",
      " 14  calculated_host_listings_count  11269 non-null  int64  \n",
      " 15  availability_365                11269 non-null  int64  \n",
      " 16  number_of_reviews_ltm           11269 non-null  int64  \n",
      " 17  listing_url                     11269 non-null  object \n",
      " 18  bedrooms                        11269 non-null  float64\n",
      " 19  property_type                   11269 non-null  object \n",
      "dtypes: float64(4), int64(9), object(7)\n",
      "memory usage: 1.8+ MB\n"
     ]
    }
   ],
   "source": [
    "df_merged.info()"
   ]
  },
  {
   "cell_type": "code",
   "execution_count": 16,
   "id": "d656db3e",
   "metadata": {},
   "outputs": [
    {
     "data": {
      "text/plain": [
       "1.0     5444\n",
       "2.0     2796\n",
       "3.0     1613\n",
       "4.0      684\n",
       "1.5      359\n",
       "5.0      232\n",
       "6.0       77\n",
       "7.0       31\n",
       "8.0       14\n",
       "9.0        7\n",
       "10.0       5\n",
       "12.0       2\n",
       "13.0       1\n",
       "15.0       1\n",
       "23.0       1\n",
       "14.0       1\n",
       "11.0       1\n",
       "Name: bedrooms, dtype: int64"
      ]
     },
     "execution_count": 16,
     "metadata": {},
     "output_type": "execute_result"
    }
   ],
   "source": [
    "df_merged.bedrooms.value_counts()"
   ]
  },
  {
   "cell_type": "markdown",
   "id": "6bb7b8d6",
   "metadata": {},
   "source": [
    "### Now let's assign the adjusted price to the Airbnb based on the cleaning fee =f(bedrooms) : \n",
    "\n",
    "- 1 bedroom = 50\n",
    "- 2 bedrooms = 75\n",
    "- 3 bedrooms = 100\n",
    "- 4 bedrooms = 120\n",
    "- Everything higher will be 150 "
   ]
  },
  {
   "cell_type": "code",
   "execution_count": 17,
   "id": "ffedf1d2",
   "metadata": {},
   "outputs": [],
   "source": [
    "cleaning_fee_dict = dict({1: 50, 2: 75 , 3: 100 , 4 : 120})"
   ]
  },
  {
   "cell_type": "code",
   "execution_count": 18,
   "id": "37984e73",
   "metadata": {},
   "outputs": [],
   "source": [
    "# Remap the values of the dataframe\n",
    "\n",
    "df_merged['cleaning_fee'] = df_merged['bedrooms'].map(cleaning_fee_dict)\n",
    "df_merged['cleaning_fee'].value_counts().sum()\n",
    "df_merged['cleaning_fee'] = df_merged['cleaning_fee'].fillna(150)"
   ]
  },
  {
   "cell_type": "code",
   "execution_count": 19,
   "id": "9ec7b600",
   "metadata": {},
   "outputs": [],
   "source": [
    "df_merged['adjusted_price'] = df_merged['price'] + df_merged['cleaning_fee']"
   ]
  },
  {
   "cell_type": "code",
   "execution_count": 20,
   "id": "2b9b103a",
   "metadata": {},
   "outputs": [
    {
     "name": "stdout",
     "output_type": "stream",
     "text": [
      "<class 'pandas.core.frame.DataFrame'>\n",
      "Int64Index: 11269 entries, 0 to 11268\n",
      "Data columns (total 22 columns):\n",
      " #   Column                          Non-Null Count  Dtype  \n",
      "---  ------                          --------------  -----  \n",
      " 0   id                              11269 non-null  int64  \n",
      " 1   name                            11269 non-null  object \n",
      " 2   host_id                         11269 non-null  int64  \n",
      " 3   host_name                       11218 non-null  object \n",
      " 4   neighbourhood_group             11269 non-null  object \n",
      " 5   neighbourhood                   11269 non-null  int64  \n",
      " 6   latitude                        11269 non-null  float64\n",
      " 7   longitude                       11269 non-null  float64\n",
      " 8   room_type                       11269 non-null  object \n",
      " 9   price                           11269 non-null  int64  \n",
      " 10  minimum_nights                  11269 non-null  int64  \n",
      " 11  number_of_reviews               11269 non-null  int64  \n",
      " 12  last_review                     8547 non-null   object \n",
      " 13  reviews_per_month               8547 non-null   float64\n",
      " 14  calculated_host_listings_count  11269 non-null  int64  \n",
      " 15  availability_365                11269 non-null  int64  \n",
      " 16  number_of_reviews_ltm           11269 non-null  int64  \n",
      " 17  listing_url                     11269 non-null  object \n",
      " 18  bedrooms                        11269 non-null  float64\n",
      " 19  property_type                   11269 non-null  object \n",
      " 20  cleaning_fee                    11269 non-null  float64\n",
      " 21  adjusted_price                  11269 non-null  float64\n",
      "dtypes: float64(6), int64(9), object(7)\n",
      "memory usage: 2.0+ MB\n"
     ]
    }
   ],
   "source": [
    "df_merged.info()"
   ]
  },
  {
   "cell_type": "markdown",
   "id": "4d59cda4",
   "metadata": {},
   "source": [
    "# Second analysis : Investigate the Dataset :  \n",
    "\n",
    "- #1 Listing per room type % \n",
    "- #2 Listing per district \n",
    "- #3 Room type proportion, district comparaison\n",
    "- #4 % of host who have more than 1 listing per neighboorood \n",
    "- #5 Price distribution \n",
    "- #6 Price distribution per Neighboorood \n"
   ]
  },
  {
   "cell_type": "code",
   "execution_count": 21,
   "id": "7951f3b0",
   "metadata": {},
   "outputs": [
    {
     "name": "stdout",
     "output_type": "stream",
     "text": [
      "                        id\n",
      "room_type                 \n",
      "Entire home/apt  80.628272\n",
      "Private room     18.200373\n",
      "Shared room       1.073742\n",
      "Hotel room        0.097613\n"
     ]
    }
   ],
   "source": [
    "# Let's see what kind of housing distribution type we have : \n",
    "\n",
    "room_type_dist = df_merged.groupby('room_type').agg({'id': 'count'})\n",
    "room_type_sum = df_merged.groupby('room_type').count()['id'].sum()\n",
    "room_type_dist = (room_type_dist / room_type_sum *100).sort_values(by='id', ascending = False)\n",
    "print(room_type_dist)"
   ]
  },
  {
   "cell_type": "code",
   "execution_count": 22,
   "id": "3300dcb4",
   "metadata": {},
   "outputs": [
    {
     "data": {
      "image/png": "[encoded data removed]",
      "text/plain": [
       "<Figure size 900x600 with 1 Axes>"
      ]
     },
     "metadata": {},
     "output_type": "display_data"
    }
   ],
   "source": [
    "plt.figure(figsize=(9,6), dpi = 100)\n",
    "plt.style.use('ggplot')\n",
    "label = room_type_dist.index\n",
    "\n",
    "perc = [c for c in room_type_dist['id']]\n",
    "\n",
    "\n",
    "plt.pie(perc,autopct='%.2f %%',labeldistance=1.3,pctdistance=1.5)\n",
    "plt.title('Distribution of Airbnb types in Austin')\n",
    "\n",
    "plt.legend(labels=label)\n",
    "plt.show()\n",
    "\n",
    "# We can already notice that despite Airbnb being originally created to share rooms, \n",
    "# in Austin more than 80% of the listings are actually about entire homes or apartments \n",
    "# or even hotel rooms, while private and shared rooms make less than 20%. \n",
    "# This is already an alarming piece of information."
   ]
  },
  {
   "cell_type": "markdown",
   "id": "200ee2f0",
   "metadata": {},
   "source": [
    "#2 Listing per district : "
   ]
  },
  {
   "cell_type": "code",
   "execution_count": 23,
   "id": "a5f9f592",
   "metadata": {
    "scrolled": false
   },
   "outputs": [],
   "source": [
    "nei = df_merged.groupby('neighbourhood_group').agg({'id': 'count'})\n",
    "nei_sum = df_merged.groupby('neighbourhood_group').count()['id'].sum()\n",
    "nei = (nei / nei_sum *100).sort_values(by='id', ascending = False)"
   ]
  },
  {
   "cell_type": "code",
   "execution_count": 24,
   "id": "44e0376e",
   "metadata": {},
   "outputs": [
    {
     "data": {
      "image/png": "[encoded data removed]",
      "text/plain": [
       "<Figure size 432x288 with 1 Axes>"
      ]
     },
     "metadata": {},
     "output_type": "display_data"
    }
   ],
   "source": [
    "nei_perc = [round(c,2) for c in nei['id']]\n",
    "label = [str(i) for i in nei.index ] \n",
    "\n",
    "plt.barh(label, nei_perc)\n",
    "plt.show()"
   ]
  },
  {
   "cell_type": "markdown",
   "id": "d19875ea",
   "metadata": {},
   "source": [
    "South Central & Central Austin is one of the most in-demand areas of Austin, and the neighborhood’s apartments and condos are especially popular with young people. UT ....\n",
    "\n"
   ]
  },
  {
   "cell_type": "code",
   "execution_count": 25,
   "id": "700be739",
   "metadata": {},
   "outputs": [
    {
     "data": {
      "text/html": [
       "<div>\n",
       "<style scoped>\n",
       "    .dataframe tbody tr th:only-of-type {\n",
       "        vertical-align: middle;\n",
       "    }\n",
       "\n",
       "    .dataframe tbody tr th {\n",
       "        vertical-align: top;\n",
       "    }\n",
       "\n",
       "    .dataframe thead th {\n",
       "        text-align: right;\n",
       "    }\n",
       "</style>\n",
       "<table border=\"1\" class=\"dataframe\">\n",
       "  <thead>\n",
       "    <tr style=\"text-align: right;\">\n",
       "      <th></th>\n",
       "      <th></th>\n",
       "      <th>id</th>\n",
       "    </tr>\n",
       "    <tr>\n",
       "      <th>host_id</th>\n",
       "      <th>neighbourhood_group</th>\n",
       "      <th></th>\n",
       "    </tr>\n",
       "  </thead>\n",
       "  <tbody>\n",
       "    <tr>\n",
       "      <th>359036978</th>\n",
       "      <th>North Austin</th>\n",
       "      <td>77</td>\n",
       "    </tr>\n",
       "    <tr>\n",
       "      <th>8167447</th>\n",
       "      <th>Central Austin</th>\n",
       "      <td>76</td>\n",
       "    </tr>\n",
       "    <tr>\n",
       "      <th rowspan=\"2\" valign=\"top\">359036978</th>\n",
       "      <th>Central Austin</th>\n",
       "      <td>64</td>\n",
       "    </tr>\n",
       "    <tr>\n",
       "      <th>Southwest Austin</th>\n",
       "      <td>54</td>\n",
       "    </tr>\n",
       "    <tr>\n",
       "      <th>194953121</th>\n",
       "      <th>Downtown</th>\n",
       "      <td>47</td>\n",
       "    </tr>\n",
       "    <tr>\n",
       "      <th>...</th>\n",
       "      <th>...</th>\n",
       "      <td>...</td>\n",
       "    </tr>\n",
       "    <tr>\n",
       "      <th>23587334</th>\n",
       "      <th>East Austin</th>\n",
       "      <td>1</td>\n",
       "    </tr>\n",
       "    <tr>\n",
       "      <th>23566680</th>\n",
       "      <th>South Central</th>\n",
       "      <td>1</td>\n",
       "    </tr>\n",
       "    <tr>\n",
       "      <th>23561867</th>\n",
       "      <th>Southeast</th>\n",
       "      <td>1</td>\n",
       "    </tr>\n",
       "    <tr>\n",
       "      <th>23538977</th>\n",
       "      <th>Northeast Austin</th>\n",
       "      <td>1</td>\n",
       "    </tr>\n",
       "    <tr>\n",
       "      <th>426962110</th>\n",
       "      <th>Travis County</th>\n",
       "      <td>1</td>\n",
       "    </tr>\n",
       "  </tbody>\n",
       "</table>\n",
       "<p>7797 rows × 1 columns</p>\n",
       "</div>"
      ],
      "text/plain": [
       "                               id\n",
       "host_id   neighbourhood_group    \n",
       "359036978 North Austin         77\n",
       "8167447   Central Austin       76\n",
       "359036978 Central Austin       64\n",
       "          Southwest Austin     54\n",
       "194953121 Downtown             47\n",
       "...                            ..\n",
       "23587334  East Austin           1\n",
       "23566680  South Central         1\n",
       "23561867  Southeast             1\n",
       "23538977  Northeast Austin      1\n",
       "426962110 Travis County         1\n",
       "\n",
       "[7797 rows x 1 columns]"
      ]
     },
     "execution_count": 25,
     "metadata": {},
     "output_type": "execute_result"
    }
   ],
   "source": [
    "host = df_merged.groupby(['host_id','neighbourhood_group']).agg({'id' : 'count'})\n",
    "host.sort_values('id', ascending = False)"
   ]
  },
  {
   "cell_type": "code",
   "execution_count": 26,
   "id": "f1e393fc",
   "metadata": {},
   "outputs": [
    {
     "data": {
      "text/html": [
       "<div>\n",
       "<style scoped>\n",
       "    .dataframe tbody tr th:only-of-type {\n",
       "        vertical-align: middle;\n",
       "    }\n",
       "\n",
       "    .dataframe tbody tr th {\n",
       "        vertical-align: top;\n",
       "    }\n",
       "\n",
       "    .dataframe thead th {\n",
       "        text-align: right;\n",
       "    }\n",
       "</style>\n",
       "<table border=\"1\" class=\"dataframe\">\n",
       "  <thead>\n",
       "    <tr style=\"text-align: right;\">\n",
       "      <th></th>\n",
       "      <th>id</th>\n",
       "      <th>name</th>\n",
       "      <th>host_id</th>\n",
       "      <th>host_name</th>\n",
       "      <th>neighbourhood_group</th>\n",
       "      <th>neighbourhood</th>\n",
       "      <th>latitude</th>\n",
       "      <th>longitude</th>\n",
       "      <th>room_type</th>\n",
       "      <th>price</th>\n",
       "      <th>...</th>\n",
       "      <th>last_review</th>\n",
       "      <th>reviews_per_month</th>\n",
       "      <th>calculated_host_listings_count</th>\n",
       "      <th>availability_365</th>\n",
       "      <th>number_of_reviews_ltm</th>\n",
       "      <th>listing_url</th>\n",
       "      <th>bedrooms</th>\n",
       "      <th>property_type</th>\n",
       "      <th>cleaning_fee</th>\n",
       "      <th>adjusted_price</th>\n",
       "    </tr>\n",
       "  </thead>\n",
       "  <tbody>\n",
       "    <tr>\n",
       "      <th>1419</th>\n",
       "      <td>6955450</td>\n",
       "      <td>Guadalupe: Austin Young Professional Community</td>\n",
       "      <td>8167447</td>\n",
       "      <td>Martin</td>\n",
       "      <td>Central Austin</td>\n",
       "      <td>78751</td>\n",
       "      <td>30.32197</td>\n",
       "      <td>-97.72521</td>\n",
       "      <td>Private room</td>\n",
       "      <td>41</td>\n",
       "      <td>...</td>\n",
       "      <td>2021-04-08</td>\n",
       "      <td>0.34</td>\n",
       "      <td>76</td>\n",
       "      <td>162</td>\n",
       "      <td>3</td>\n",
       "      <td>https://www.airbnb.com/rooms/6955450</td>\n",
       "      <td>1.0</td>\n",
       "      <td>Private room in residential home</td>\n",
       "      <td>50.0</td>\n",
       "      <td>91.0</td>\n",
       "    </tr>\n",
       "    <tr>\n",
       "      <th>1429</th>\n",
       "      <td>7108253</td>\n",
       "      <td>Guadalupe: Austin Tech Community</td>\n",
       "      <td>8167447</td>\n",
       "      <td>Martin</td>\n",
       "      <td>Central Austin</td>\n",
       "      <td>78751</td>\n",
       "      <td>30.32197</td>\n",
       "      <td>-97.72521</td>\n",
       "      <td>Private room</td>\n",
       "      <td>41</td>\n",
       "      <td>...</td>\n",
       "      <td>2019-08-17</td>\n",
       "      <td>0.16</td>\n",
       "      <td>76</td>\n",
       "      <td>346</td>\n",
       "      <td>0</td>\n",
       "      <td>https://www.airbnb.com/rooms/7108253</td>\n",
       "      <td>1.0</td>\n",
       "      <td>Private room in residential home</td>\n",
       "      <td>50.0</td>\n",
       "      <td>91.0</td>\n",
       "    </tr>\n",
       "    <tr>\n",
       "      <th>1453</th>\n",
       "      <td>7440637</td>\n",
       "      <td>Guadalupe: Austin Tech and Young Professionals</td>\n",
       "      <td>8167447</td>\n",
       "      <td>Martin</td>\n",
       "      <td>Central Austin</td>\n",
       "      <td>78751</td>\n",
       "      <td>30.32229</td>\n",
       "      <td>-97.72521</td>\n",
       "      <td>Private room</td>\n",
       "      <td>41</td>\n",
       "      <td>...</td>\n",
       "      <td>2021-07-30</td>\n",
       "      <td>0.12</td>\n",
       "      <td>76</td>\n",
       "      <td>347</td>\n",
       "      <td>1</td>\n",
       "      <td>https://www.airbnb.com/rooms/7440637</td>\n",
       "      <td>1.0</td>\n",
       "      <td>Private room in residential home</td>\n",
       "      <td>50.0</td>\n",
       "      <td>91.0</td>\n",
       "    </tr>\n",
       "    <tr>\n",
       "      <th>1489</th>\n",
       "      <td>7746849</td>\n",
       "      <td>Guadalupe: 30 Room Young Professional House</td>\n",
       "      <td>8167447</td>\n",
       "      <td>Martin</td>\n",
       "      <td>Central Austin</td>\n",
       "      <td>78751</td>\n",
       "      <td>30.32197</td>\n",
       "      <td>-97.72521</td>\n",
       "      <td>Private room</td>\n",
       "      <td>41</td>\n",
       "      <td>...</td>\n",
       "      <td>2021-06-10</td>\n",
       "      <td>0.13</td>\n",
       "      <td>76</td>\n",
       "      <td>316</td>\n",
       "      <td>1</td>\n",
       "      <td>https://www.airbnb.com/rooms/7746849</td>\n",
       "      <td>1.0</td>\n",
       "      <td>Private room in residential home</td>\n",
       "      <td>50.0</td>\n",
       "      <td>91.0</td>\n",
       "    </tr>\n",
       "    <tr>\n",
       "      <th>1492</th>\n",
       "      <td>7750755</td>\n",
       "      <td>Guadalupe: Awesome spot for people new to town</td>\n",
       "      <td>8167447</td>\n",
       "      <td>Martin</td>\n",
       "      <td>Central Austin</td>\n",
       "      <td>78751</td>\n",
       "      <td>30.32197</td>\n",
       "      <td>-97.72521</td>\n",
       "      <td>Private room</td>\n",
       "      <td>41</td>\n",
       "      <td>...</td>\n",
       "      <td>2021-06-17</td>\n",
       "      <td>0.80</td>\n",
       "      <td>76</td>\n",
       "      <td>351</td>\n",
       "      <td>2</td>\n",
       "      <td>https://www.airbnb.com/rooms/7750755</td>\n",
       "      <td>1.0</td>\n",
       "      <td>Private room in residential home</td>\n",
       "      <td>50.0</td>\n",
       "      <td>91.0</td>\n",
       "    </tr>\n",
       "    <tr>\n",
       "      <th>...</th>\n",
       "      <td>...</td>\n",
       "      <td>...</td>\n",
       "      <td>...</td>\n",
       "      <td>...</td>\n",
       "      <td>...</td>\n",
       "      <td>...</td>\n",
       "      <td>...</td>\n",
       "      <td>...</td>\n",
       "      <td>...</td>\n",
       "      <td>...</td>\n",
       "      <td>...</td>\n",
       "      <td>...</td>\n",
       "      <td>...</td>\n",
       "      <td>...</td>\n",
       "      <td>...</td>\n",
       "      <td>...</td>\n",
       "      <td>...</td>\n",
       "      <td>...</td>\n",
       "      <td>...</td>\n",
       "      <td>...</td>\n",
       "      <td>...</td>\n",
       "    </tr>\n",
       "    <tr>\n",
       "      <th>7219</th>\n",
       "      <td>42118859</td>\n",
       "      <td>800 Private Room in Great Community</td>\n",
       "      <td>8167447</td>\n",
       "      <td>Martin</td>\n",
       "      <td>Central Austin</td>\n",
       "      <td>78751</td>\n",
       "      <td>30.32123</td>\n",
       "      <td>-97.72420</td>\n",
       "      <td>Private room</td>\n",
       "      <td>33</td>\n",
       "      <td>...</td>\n",
       "      <td>2021-03-01</td>\n",
       "      <td>0.13</td>\n",
       "      <td>76</td>\n",
       "      <td>300</td>\n",
       "      <td>1</td>\n",
       "      <td>https://www.airbnb.com/rooms/42118859</td>\n",
       "      <td>1.0</td>\n",
       "      <td>Private room in residential home</td>\n",
       "      <td>50.0</td>\n",
       "      <td>83.0</td>\n",
       "    </tr>\n",
       "    <tr>\n",
       "      <th>7459</th>\n",
       "      <td>42860906</td>\n",
       "      <td>800 Private Room in Great Community 2</td>\n",
       "      <td>8167447</td>\n",
       "      <td>Martin</td>\n",
       "      <td>Central Austin</td>\n",
       "      <td>78751</td>\n",
       "      <td>30.31949</td>\n",
       "      <td>-97.72900</td>\n",
       "      <td>Private room</td>\n",
       "      <td>33</td>\n",
       "      <td>...</td>\n",
       "      <td>2021-08-31</td>\n",
       "      <td>0.18</td>\n",
       "      <td>76</td>\n",
       "      <td>261</td>\n",
       "      <td>2</td>\n",
       "      <td>https://www.airbnb.com/rooms/42860906</td>\n",
       "      <td>1.0</td>\n",
       "      <td>Private room in residential home</td>\n",
       "      <td>50.0</td>\n",
       "      <td>83.0</td>\n",
       "    </tr>\n",
       "    <tr>\n",
       "      <th>7744</th>\n",
       "      <td>44476530</td>\n",
       "      <td>Guadalupe: Economic Spot</td>\n",
       "      <td>8167447</td>\n",
       "      <td>Martin</td>\n",
       "      <td>Central Austin</td>\n",
       "      <td>78751</td>\n",
       "      <td>30.32265</td>\n",
       "      <td>-97.72604</td>\n",
       "      <td>Shared room</td>\n",
       "      <td>17</td>\n",
       "      <td>...</td>\n",
       "      <td>2021-06-03</td>\n",
       "      <td>0.25</td>\n",
       "      <td>76</td>\n",
       "      <td>304</td>\n",
       "      <td>2</td>\n",
       "      <td>https://www.airbnb.com/rooms/44476530</td>\n",
       "      <td>1.0</td>\n",
       "      <td>Shared room in residential home</td>\n",
       "      <td>50.0</td>\n",
       "      <td>67.0</td>\n",
       "    </tr>\n",
       "    <tr>\n",
       "      <th>7784</th>\n",
       "      <td>44753345</td>\n",
       "      <td>800 Private Room in Great Community 3</td>\n",
       "      <td>8167447</td>\n",
       "      <td>Martin</td>\n",
       "      <td>Central Austin</td>\n",
       "      <td>78751</td>\n",
       "      <td>30.32112</td>\n",
       "      <td>-97.72629</td>\n",
       "      <td>Private room</td>\n",
       "      <td>30</td>\n",
       "      <td>...</td>\n",
       "      <td>2021-04-08</td>\n",
       "      <td>0.23</td>\n",
       "      <td>76</td>\n",
       "      <td>318</td>\n",
       "      <td>2</td>\n",
       "      <td>https://www.airbnb.com/rooms/44753345</td>\n",
       "      <td>1.0</td>\n",
       "      <td>Private room in residential home</td>\n",
       "      <td>50.0</td>\n",
       "      <td>80.0</td>\n",
       "    </tr>\n",
       "    <tr>\n",
       "      <th>8609</th>\n",
       "      <td>48145817</td>\n",
       "      <td>N.Lamar. Economic Spot in Great Community 2</td>\n",
       "      <td>8167447</td>\n",
       "      <td>Martin</td>\n",
       "      <td>Central Austin</td>\n",
       "      <td>78756</td>\n",
       "      <td>30.32006</td>\n",
       "      <td>-97.73119</td>\n",
       "      <td>Shared room</td>\n",
       "      <td>17</td>\n",
       "      <td>...</td>\n",
       "      <td>NaN</td>\n",
       "      <td>NaN</td>\n",
       "      <td>76</td>\n",
       "      <td>294</td>\n",
       "      <td>0</td>\n",
       "      <td>https://www.airbnb.com/rooms/48145817</td>\n",
       "      <td>1.0</td>\n",
       "      <td>Shared room in residential home</td>\n",
       "      <td>50.0</td>\n",
       "      <td>67.0</td>\n",
       "    </tr>\n",
       "  </tbody>\n",
       "</table>\n",
       "<p>76 rows × 22 columns</p>\n",
       "</div>"
      ],
      "text/plain": [
       "            id                                            name  host_id  \\\n",
       "1419   6955450  Guadalupe: Austin Young Professional Community  8167447   \n",
       "1429   7108253                Guadalupe: Austin Tech Community  8167447   \n",
       "1453   7440637  Guadalupe: Austin Tech and Young Professionals  8167447   \n",
       "1489   7746849     Guadalupe: 30 Room Young Professional House  8167447   \n",
       "1492   7750755  Guadalupe: Awesome spot for people new to town  8167447   \n",
       "...        ...                                             ...      ...   \n",
       "7219  42118859             800 Private Room in Great Community  8167447   \n",
       "7459  42860906           800 Private Room in Great Community 2  8167447   \n",
       "7744  44476530                        Guadalupe: Economic Spot  8167447   \n",
       "7784  44753345           800 Private Room in Great Community 3  8167447   \n",
       "8609  48145817     N.Lamar. Economic Spot in Great Community 2  8167447   \n",
       "\n",
       "     host_name neighbourhood_group  neighbourhood  latitude  longitude  \\\n",
       "1419    Martin      Central Austin          78751  30.32197  -97.72521   \n",
       "1429    Martin      Central Austin          78751  30.32197  -97.72521   \n",
       "1453    Martin      Central Austin          78751  30.32229  -97.72521   \n",
       "1489    Martin      Central Austin          78751  30.32197  -97.72521   \n",
       "1492    Martin      Central Austin          78751  30.32197  -97.72521   \n",
       "...        ...                 ...            ...       ...        ...   \n",
       "7219    Martin      Central Austin          78751  30.32123  -97.72420   \n",
       "7459    Martin      Central Austin          78751  30.31949  -97.72900   \n",
       "7744    Martin      Central Austin          78751  30.32265  -97.72604   \n",
       "7784    Martin      Central Austin          78751  30.32112  -97.72629   \n",
       "8609    Martin      Central Austin          78756  30.32006  -97.73119   \n",
       "\n",
       "         room_type  price  ...  last_review  reviews_per_month  \\\n",
       "1419  Private room     41  ...   2021-04-08               0.34   \n",
       "1429  Private room     41  ...   2019-08-17               0.16   \n",
       "1453  Private room     41  ...   2021-07-30               0.12   \n",
       "1489  Private room     41  ...   2021-06-10               0.13   \n",
       "1492  Private room     41  ...   2021-06-17               0.80   \n",
       "...            ...    ...  ...          ...                ...   \n",
       "7219  Private room     33  ...   2021-03-01               0.13   \n",
       "7459  Private room     33  ...   2021-08-31               0.18   \n",
       "7744   Shared room     17  ...   2021-06-03               0.25   \n",
       "7784  Private room     30  ...   2021-04-08               0.23   \n",
       "8609   Shared room     17  ...          NaN                NaN   \n",
       "\n",
       "     calculated_host_listings_count  availability_365  number_of_reviews_ltm  \\\n",
       "1419                             76               162                      3   \n",
       "1429                             76               346                      0   \n",
       "1453                             76               347                      1   \n",
       "1489                             76               316                      1   \n",
       "1492                             76               351                      2   \n",
       "...                             ...               ...                    ...   \n",
       "7219                             76               300                      1   \n",
       "7459                             76               261                      2   \n",
       "7744                             76               304                      2   \n",
       "7784                             76               318                      2   \n",
       "8609                             76               294                      0   \n",
       "\n",
       "                                listing_url  bedrooms  \\\n",
       "1419   https://www.airbnb.com/rooms/6955450       1.0   \n",
       "1429   https://www.airbnb.com/rooms/7108253       1.0   \n",
       "1453   https://www.airbnb.com/rooms/7440637       1.0   \n",
       "1489   https://www.airbnb.com/rooms/7746849       1.0   \n",
       "1492   https://www.airbnb.com/rooms/7750755       1.0   \n",
       "...                                     ...       ...   \n",
       "7219  https://www.airbnb.com/rooms/42118859       1.0   \n",
       "7459  https://www.airbnb.com/rooms/42860906       1.0   \n",
       "7744  https://www.airbnb.com/rooms/44476530       1.0   \n",
       "7784  https://www.airbnb.com/rooms/44753345       1.0   \n",
       "8609  https://www.airbnb.com/rooms/48145817       1.0   \n",
       "\n",
       "                         property_type  cleaning_fee adjusted_price  \n",
       "1419  Private room in residential home          50.0           91.0  \n",
       "1429  Private room in residential home          50.0           91.0  \n",
       "1453  Private room in residential home          50.0           91.0  \n",
       "1489  Private room in residential home          50.0           91.0  \n",
       "1492  Private room in residential home          50.0           91.0  \n",
       "...                                ...           ...            ...  \n",
       "7219  Private room in residential home          50.0           83.0  \n",
       "7459  Private room in residential home          50.0           83.0  \n",
       "7744   Shared room in residential home          50.0           67.0  \n",
       "7784  Private room in residential home          50.0           80.0  \n",
       "8609   Shared room in residential home          50.0           67.0  \n",
       "\n",
       "[76 rows x 22 columns]"
      ]
     },
     "execution_count": 26,
     "metadata": {},
     "output_type": "execute_result"
    }
   ],
   "source": [
    "df_merged[df_merged['host_id'] == 8167447]"
   ]
  },
  {
   "cell_type": "code",
   "execution_count": 27,
   "id": "fc5e8dfb",
   "metadata": {},
   "outputs": [
    {
     "data": {
      "text/plain": [
       "neighbourhood_group\n",
       "78719                   4\n",
       "78742                   6\n",
       "Central Austin       1278\n",
       "Downtown              349\n",
       "East Austin          1137\n",
       "Hays County            83\n",
       "North Austin          201\n",
       "Northeast Austin      541\n",
       "Northwest Austin      312\n",
       "South Austin          549\n",
       "South Central        1359\n",
       "Southeast             763\n",
       "Southwest Austin      141\n",
       "St. Johns             103\n",
       "Travis County         596\n",
       "Westlake Hills        252\n",
       "Williamson County     122\n",
       "Name: host_id, dtype: int64"
      ]
     },
     "execution_count": 27,
     "metadata": {},
     "output_type": "execute_result"
    }
   ],
   "source": [
    "hosts_per_neighbourhood = df_merged.groupby('neighbourhood_group')['host_id'].nunique()\n",
    "hosts_per_neighbourhood.drop(78712, inplace =True)\n",
    "hosts_per_neighbourhood"
   ]
  },
  {
   "cell_type": "code",
   "execution_count": 28,
   "id": "4a998a06",
   "metadata": {},
   "outputs": [
    {
     "data": {
      "text/plain": [
       "neighbourhood_group\n",
       "Williamson County    0.770492\n",
       "Westlake Hills       1.190476\n",
       "Travis County        0.946309\n",
       "St. Johns            1.330097\n",
       "Southwest Austin     1.397163\n",
       "Southeast            0.925295\n",
       "South Central        1.268580\n",
       "South Austin         0.925319\n",
       "Northwest Austin     0.881410\n",
       "Northeast Austin     0.955638\n",
       "North Austin         1.626866\n",
       "Hays County          1.397590\n",
       "East Austin          1.256816\n",
       "Downtown             1.936963\n",
       "Central Austin       1.183881\n",
       "78742                1.500000\n",
       "78719                1.250000\n",
       "dtype: float64"
      ]
     },
     "execution_count": 28,
     "metadata": {},
     "output_type": "execute_result"
    }
   ],
   "source": [
    "listings_per_host_per_neighbourhood = (\n",
    "    (df_merged[\n",
    "        df_merged['room_type']\n",
    "        .isin(['Entire home/apt', 'Hotel room'])]\n",
    "    .groupby('neighbourhood_group')\n",
    "    .size() / hosts_per_neighbourhood)\n",
    "    .iloc[::-1]\n",
    ")\n",
    "\n",
    "listings_per_host_per_neighbourhood"
   ]
  },
  {
   "cell_type": "code",
   "execution_count": 29,
   "id": "fe788c63",
   "metadata": {},
   "outputs": [
    {
     "data": {
      "text/plain": [
       "neighbourhood_group\n",
       "Williamson County    0.000000\n",
       "Westlake Hills       0.027778\n",
       "Travis County        0.016779\n",
       "St. Johns            0.019417\n",
       "Southwest Austin     0.021277\n",
       "Southeast            0.009174\n",
       "South Central        0.024283\n",
       "South Austin         0.010929\n",
       "Northwest Austin     0.012821\n",
       "Northeast Austin     0.009242\n",
       "North Austin         0.029851\n",
       "Hays County          0.036145\n",
       "East Austin          0.024626\n",
       "Downtown             0.063037\n",
       "Central Austin       0.022692\n",
       "78742                0.166667\n",
       "78719                0.000000\n",
       "dtype: float64"
      ]
     },
     "execution_count": 29,
     "metadata": {},
     "output_type": "execute_result"
    }
   ],
   "source": [
    "multiple_listings_perc_per_neighbourhood = (\n",
    "    (df_merged\n",
    "    [df_merged['room_type'].isin(['Entire home/apt', 'Hotel room'])]\n",
    "    .groupby(['neighbourhood_group', 'host_id'])\n",
    "    .size().ge(5)\n",
    "    .groupby('neighbourhood_group')\n",
    "    .sum() / hosts_per_neighbourhood)\n",
    "    .iloc[::-1]\n",
    ")\n",
    "\n",
    "multiple_listings_perc_per_neighbourhood"
   ]
  },
  {
   "cell_type": "code",
   "execution_count": 30,
   "id": "7b53f1a9",
   "metadata": {},
   "outputs": [
    {
     "data": {
      "image/png": "[encoded data removed]",
      "text/plain": [
       "<Figure size 1008x360 with 2 Axes>"
      ]
     },
     "metadata": {},
     "output_type": "display_data"
    }
   ],
   "source": [
    "fig, (ax1, ax2) = plt.subplots(1, 2, figsize=(14,5), sharey=True)\n",
    "\n",
    "(listings_per_host_per_neighbourhood\n",
    " .plot(kind='barh', ax=ax1))\n",
    "\n",
    "(multiple_listings_perc_per_neighbourhood\n",
    " .plot(kind='barh', ax=ax2))\n",
    "\n",
    "ax1.grid(axis='x')\n",
    "ax2.grid(axis='x')\n",
    "ax1.set_ylabel('Neighbourhood')\n",
    "ax1.set_xlabel('Listings per User')\n",
    "ax2.set_xlabel('Users with 5+ Listings (%)')\n",
    "ax1.axvline(1, c='k', ls='--', lw=.9)\n",
    "\n",
    "ax1.set_title('# Homes, Apartments & Hotel Rooms per Host\\nNeighbourhoods Comparison', weight='bold')\n",
    "ax2.set_title('% of Hosts with 5+ Homes/Apartments/Hotel Rooms\\nNeighbourhoods Comparison', weight='bold')\n",
    "\n",
    "plt.show()"
   ]
  },
  {
   "cell_type": "code",
   "execution_count": 31,
   "id": "0940b136",
   "metadata": {},
   "outputs": [
    {
     "data": {
      "text/plain": [
       "<Figure size 720x432 with 0 Axes>"
      ]
     },
     "metadata": {},
     "output_type": "display_data"
    },
    {
     "data": {
      "image/png": "[encoded data removed]",
      "text/plain": [
       "<Figure size 360x360 with 1 Axes>"
      ]
     },
     "metadata": {},
     "output_type": "display_data"
    }
   ],
   "source": [
    "\n",
    "\n",
    "plt.figure(figsize=(10,6))\n",
    "sns.displot(df_merged['price'])\n",
    "plt.title('Prices Distribution', weight='bold')\n",
    "plt.grid()\n",
    "\n",
    "plt.show()\n",
    "\n",
    "# Clearly some outliers here so I'm going to keep everything bellow 2000"
   ]
  },
  {
   "cell_type": "code",
   "execution_count": 32,
   "id": "1cc8f652",
   "metadata": {},
   "outputs": [
    {
     "name": "stderr",
     "output_type": "stream",
     "text": [
      "C:\\Users\\johan\\anaconda3\\envs\\PyCharmLearningProject\\lib\\site-packages\\seaborn\\distributions.py:2619: FutureWarning: `distplot` is a deprecated function and will be removed in a future version. Please adapt your code to use either `displot` (a figure-level function with similar flexibility) or `histplot` (an axes-level function for histograms).\n",
      "  warnings.warn(msg, FutureWarning)\n",
      "C:\\Users\\johan\\anaconda3\\envs\\PyCharmLearningProject\\lib\\site-packages\\seaborn\\distributions.py:2619: FutureWarning: `distplot` is a deprecated function and will be removed in a future version. Please adapt your code to use either `displot` (a figure-level function with similar flexibility) or `histplot` (an axes-level function for histograms).\n",
      "  warnings.warn(msg, FutureWarning)\n"
     ]
    },
    {
     "data": {
      "image/png": "[encoded data removed]",
      "text/plain": [
       "<Figure size 720x432 with 3 Axes>"
      ]
     },
     "metadata": {},
     "output_type": "display_data"
    }
   ],
   "source": [
    "\n",
    "df_merged = df_merged[df_merged['price'] < 1800]\n",
    "trans_prices = df_merged['price'].pipe(np.log1p)\n",
    "\n",
    "fig, ax = plt.subplots(figsize=(10,6))\n",
    "ax2 = ax.twiny().twinx()\n",
    "\n",
    "sns.distplot(df_merged['price'], ax=ax, label='True Data')\n",
    "sns.distplot(trans_prices, color=sns.color_palette()[1], ax=ax2, label='Transformed Data\\n(np.log1p)')\n",
    "ax.set_title('Prices Distribution', weight='bold')\n",
    "ax.grid()\n",
    "ax.legend(loc=2)\n",
    "ax2.legend(loc=1)\n",
    "ax.set_xlabel('Price')\n",
    "ax.set_ylabel('Density')\n",
    "\n",
    "fig.tight_layout()\n",
    "plt.show()\n",
    "\n"
   ]
  },
  {
   "cell_type": "markdown",
   "id": "1bc82896",
   "metadata": {},
   "source": [
    "\n",
    "\n",
    "Since they are still slightly skewed, I normalize prices with a logaritmic transformation.\n",
    "\n",
    "Let's see if price has different distribution depending on the language. To do this, we will do a graphical evaluation and then we will apply a statistical test (T-test for independent samples).\n"
   ]
  },
  {
   "cell_type": "code",
   "execution_count": 33,
   "id": "10570f4a",
   "metadata": {},
   "outputs": [
    {
     "name": "stderr",
     "output_type": "stream",
     "text": [
      "C:\\Users\\johan\\anaconda3\\envs\\PyCharmLearningProject\\lib\\site-packages\\seaborn\\distributions.py:2619: FutureWarning: `distplot` is a deprecated function and will be removed in a future version. Please adapt your code to use either `displot` (a figure-level function with similar flexibility) or `histplot` (an axes-level function for histograms).\n",
      "  warnings.warn(msg, FutureWarning)\n",
      "C:\\Users\\johan\\anaconda3\\envs\\PyCharmLearningProject\\lib\\site-packages\\seaborn\\distributions.py:2619: FutureWarning: `distplot` is a deprecated function and will be removed in a future version. Please adapt your code to use either `displot` (a figure-level function with similar flexibility) or `histplot` (an axes-level function for histograms).\n",
      "  warnings.warn(msg, FutureWarning)\n"
     ]
    },
    {
     "data": {
      "image/png": "[encoded data removed]",
      "text/plain": [
       "<Figure size 720x432 with 3 Axes>"
      ]
     },
     "metadata": {},
     "output_type": "display_data"
    }
   ],
   "source": [
    "\n",
    "df_merged = df_merged[df_merged['price'] < 1800]\n",
    "trans_prices = df_merged['price'].pipe(np.log1p)\n",
    "\n",
    "fig, ax = plt.subplots(figsize=(10,6))\n",
    "ax2 = ax.twiny().twinx()\n",
    "\n",
    "sns.distplot(df_merged['price'], ax=ax, label='True Data')\n",
    "sns.distplot(trans_prices, color=sns.color_palette()[1], ax=ax2, label='Transformed Data\\n(np.log1p)')\n",
    "ax.set_title('Prices Distribution', weight='bold')\n",
    "ax.grid()\n",
    "ax.legend(loc=2)\n",
    "ax2.legend(loc=1)\n",
    "ax.set_xlabel('Price')\n",
    "ax.set_ylabel('Density')\n",
    "\n",
    "fig.tight_layout()\n",
    "plt.show()"
   ]
  },
  {
   "cell_type": "code",
   "execution_count": 54,
   "id": "bc6f87b2",
   "metadata": {},
   "outputs": [],
   "source": [
    "def price_dist(neib) : \n",
    "    \n",
    "    df_nei = df_merged.loc[df_merged['neighbourhood_group'].isin([neib])]\n",
    "    trans_prices_nei = df_nei['price'].pipe(np.log1p)\n",
    "    fig, ax = plt.subplots(figsize=(10,6))\n",
    "    ax2 = ax.twiny().twinx()\n",
    "\n",
    "    sns.distplot(df_nei['price'], ax=ax, label='True Data')\n",
    "    sns.distplot(trans_prices_nei, color=sns.color_palette()[1], ax=ax2, label='Transformed Data\\n(np.log1p)')\n",
    "    ax.set_title('Prices Distribution in' + \" \" + neib, weight='bold')\n",
    "    ax.grid()\n",
    "    ax.legend(loc=2)\n",
    "    ax2.legend(loc=1)\n",
    "    ax.set_xlabel('Price')\n",
    "    ax.set_ylabel('Density')\n",
    "\n",
    "    fig.tight_layout()\n",
    "    return plt.show()"
   ]
  },
  {
   "cell_type": "code",
   "execution_count": 55,
   "id": "78aac25a",
   "metadata": {},
   "outputs": [
    {
     "name": "stderr",
     "output_type": "stream",
     "text": [
      "C:\\Users\\johan\\anaconda3\\envs\\PyCharmLearningProject\\lib\\site-packages\\seaborn\\distributions.py:2619: FutureWarning: `distplot` is a deprecated function and will be removed in a future version. Please adapt your code to use either `displot` (a figure-level function with similar flexibility) or `histplot` (an axes-level function for histograms).\n",
      "  warnings.warn(msg, FutureWarning)\n",
      "C:\\Users\\johan\\anaconda3\\envs\\PyCharmLearningProject\\lib\\site-packages\\seaborn\\distributions.py:2619: FutureWarning: `distplot` is a deprecated function and will be removed in a future version. Please adapt your code to use either `displot` (a figure-level function with similar flexibility) or `histplot` (an axes-level function for histograms).\n",
      "  warnings.warn(msg, FutureWarning)\n"
     ]
    },
    {
     "data": {
      "image/png": "[encoded data removed]",
      "text/plain": [
       "<Figure size 720x432 with 3 Axes>"
      ]
     },
     "metadata": {},
     "output_type": "display_data"
    }
   ],
   "source": [
    "price_dist('East Austin')"
   ]
  },
  {
   "cell_type": "code",
   "execution_count": null,
   "id": "b7283eae",
   "metadata": {},
   "outputs": [],
   "source": []
  },
  {
   "cell_type": "code",
   "execution_count": null,
   "id": "fa09fded",
   "metadata": {},
   "outputs": [],
   "source": []
  },
  {
   "cell_type": "code",
   "execution_count": null,
   "id": "87abfc55",
   "metadata": {},
   "outputs": [],
   "source": []
  },
  {
   "cell_type": "code",
   "execution_count": null,
   "id": "061796db",
   "metadata": {},
   "outputs": [],
   "source": []
  }
 ],
 "metadata": {
  "kernelspec": {
   "display_name": "Python 3 (ipykernel)",
   "language": "python",
   "name": "python3"
  },
  "language_info": {
   "codemirror_mode": {
    "name": "ipython",
    "version": 3
   },
   "file_extension": ".py",
   "mimetype": "text/x-python",
   "name": "python",
   "nbconvert_exporter": "python",
   "pygments_lexer": "ipython3",
   "version": "3.9.6"
  }
 },
 "nbformat": 4,
 "nbformat_minor": 5
}
